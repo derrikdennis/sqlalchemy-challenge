{
 "cells": [
  {
   "cell_type": "code",
   "execution_count": null,
   "metadata": {
    "tags": []
   },
   "outputs": [],
   "source": [
    "#Importing the packages needed to run analyses.\n",
    "#Pandas, Numpy, Matplotlib and SQLAlchemy are regularly used packages.  If you not have one of these installed, please, open a bash terminal and type: pip.install.<package> where <package> is the package that is not installed.\n",
    "# Arrow and Seaborn are lesser-used packages, so I have the program install within the environment to finalize the analysis.\n",
    "\n",
    "\n",
    "try:\n",
    "    import arrow\n",
    "    breakx`\n",
    "except ModuleNotFoundError:\n",
    "    !pip install arrow\n",
    "    import arrow\n",
    "\n",
    "try:\n",
    "    import seaborn as sns\n",
    "    break\n",
    "except ModuleNotFoundError:\n",
    "    !pip install seaborn\n",
    "    import seaborn as sns\n",
    "\n",
    "import sqlalchemy\n",
    "import numpy as np\n",
    "import pandas as pd\n",
    "import matplotlib.pyplot as plt\n",
    "import seaborn as sns\n",
    "\n",
    "from sqlalchemy.ext.automap import automap_base\n",
    "from sqlalchemy.orm import Session\n",
    "\n",
    "\n",
    "%matplotlib inline\n",
    "\n",
    "#rom matplotlib import style#rom matplotlib import style\n",
    "#style.use('fivethirtyeight')style.use('fivethirtyeight')\n"
   ]
  },
  {
   "cell_type": "code",
   "execution_count": null,
   "metadata": {
    "tags": []
   },
   "outputs": [],
   "source": [
    "engine = create_engine(\"sqlite:///Instructions/Resources/hawaii.sqlite\")"
   ]
  },
  {
   "cell_type": "code",
   "execution_count": null,
   "metadata": {},
   "outputs": [],
   "source": [
    "Base = automap_base()\n",
    "Base.prepare(engine, reflect=True)\n",
    "Base.classes.keys()"
   ]
  },
  {
   "cell_type": "code",
   "execution_count": null,
   "metadata": {},
   "outputs": [],
   "source": [
    "session = Session(engine)"
   ]
  },
  {
   "cell_type": "code",
   "execution_count": null,
   "metadata": {
    "tags": []
   },
   "outputs": [],
   "source": [
    "Measurement= Base.classes.measurement\n",
    "m1 = session.query(Measurement).first()\n",
    "print()"
   ]
  },
  {
   "cell_type": "code",
   "execution_count": null,
   "metadata": {},
   "outputs": [],
   "source": [
    "\n",
    "afirst_row = session.query(Measurement).first()\n",
    "f#irst_row.__dict__srement.__tablename__).first:\n",
    "    print(row.Measurement)"
   ]
  },
  {
   "cell_type": "code",
   "execution_count": null,
   "metadata": {},
   "outputs": [],
   "source": []
  },
  {
   "cell_type": "code",
   "execution_count": null,
   "metadata": {},
   "outputs": [],
   "source": []
  }
 ],
 "metadata": {
  "language_info": {
   "codemirror_mode": {
    "name": "ipython",
    "version": 3
   },
   "file_extension": ".py",
   "mimetype": "text/x-python",
   "name": "python",
   "nbconvert_exporter": "python",
   "pygments_lexer": "ipython3",
   "version": "3.6.10-final"
  },
  "orig_nbformat": 2,
  "kernelspec": {
   "name": "python361064bitmypythonenvironmentconda689826616767485684edb83b57bf6f83",
   "display_name": "Python 3.6.10 64-bit ('MyPythonEnvironment': conda)"
  }
 },
 "nbformat": 4,
 "nbformat_minor": 2
}