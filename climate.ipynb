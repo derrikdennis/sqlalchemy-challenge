{
 "cells": [
  {
   "cell_type": "code",
   "execution_count": 1,
   "metadata": {
    "tags": []
   },
   "outputs": [
    {
     "output_type": "stream",
     "name": "stdout",
     "text": "All necessary libraries installed\n"
    }
   ],
   "source": [
    "#Importing the packages needed to run analyses.\n",
    "#Pandas, Numpy, Matplotlib and SQLAlchemy are regularly used packages.  If you not have one of these installed, please, open a bash terminal and type: pip.install.<package> where <package> is the package that is not installed.\n",
    "# Arrow and Seaborn are lesser-used packages, so I have the program install within the environment to finalize the analysis.\n",
    "\n",
    "\n",
    "try:\n",
    "    import arrow\n",
    "except ModuleNotFoundError:\n",
    "    print(\"You do not have Arrow installed on your computer.  Let me do that for you.\")\n",
    "    !pip install arrow\n",
    "    import arrow\n",
    "\n",
    "try:\n",
    "    import seaborn as sns\n",
    "except ModuleNotFoundError:\n",
    "    print(\"You do not have Seaborn installed on your computer.  Let me do that for you.\")\n",
    "    !pip install seaborn\n",
    "    import seaborn as sns\n",
    "\n",
    "import sqlalchemy\n",
    "import numpy as np\n",
    "import pandas as pd\n",
    "import matplotlib.pyplot as plt\n",
    "import seaborn as sns\n",
    "\n",
    "from sqlalchemy.ext.automap import automap_base\n",
    "from sqlalchemy.orm import Session\n",
    "from sqlalchemy import create_engine, func\n",
    "\n",
    "%matplotlib inline\n",
    "print(\"All necessary libraries installed\")\n",
    "\n",
    "#rom matplotlib import style#rom matplotlib import style\n",
    "#style.use('fivethirtyeight')style.use('fivethirtyeight')\n"
   ]
  },
  {
   "cell_type": "code",
   "execution_count": 2,
   "metadata": {
    "tags": []
   },
   "outputs": [
    {
     "output_type": "stream",
     "name": "stdout",
     "text": "You engine is ready to go\n"
    }
   ],
   "source": [
    "engine = create_engine(\"sqlite:///Instructions/Resources/hawaii.sqlite\")\n",
    "print(\"You engine is ready to go\")"
   ]
  },
  {
   "cell_type": "code",
   "execution_count": 3,
   "metadata": {
    "tags": []
   },
   "outputs": [
    {
     "output_type": "stream",
     "name": "stdout",
     "text": "Here are the keys to the kingdom\nmeasurement,station\n"
    }
   ],
   "source": [
    "Base = automap_base()\n",
    "Base.prepare(engine, reflect=True)\n",
    "keys = Base.classes.keys()\n",
    "print(f\"Here are the keys to the kingdom\")\n",
    "print(*keys, sep=\", \")"
   ]
  },
  {
   "cell_type": "code",
   "execution_count": 4,
   "metadata": {},
   "outputs": [],
   "source": [
    "session = Session(engine)"
   ]
  },
  {
   "cell_type": "code",
   "execution_count": 5,
   "metadata": {
    "tags": []
   },
   "outputs": [],
   "source": [
    "Measurement= Base.classes.measurement\n",
    "Station = Base.classes.station"
   ]
  },
  {
   "cell_type": "code",
   "execution_count": 6,
   "metadata": {},
   "outputs": [
    {
     "output_type": "execute_result",
     "data": {
      "text/plain": "{'_sa_instance_state': <sqlalchemy.orm.state.InstanceState at 0x2294e9740f0>,\n 'prcp': 0.08,\n 'station': 'USC00519397',\n 'id': 1,\n 'tobs': 65.0,\n 'date': '2010-01-01'}"
     },
     "metadata": {},
     "execution_count": 6
    }
   ],
   "source": [
    "measure_first_row = session.query(Measurement).first()\n",
    "measure_first_row.__dict__"
   ]
  },
  {
   "cell_type": "code",
   "execution_count": 7,
   "metadata": {},
   "outputs": [
    {
     "output_type": "execute_result",
     "data": {
      "text/plain": "{'_sa_instance_state': <sqlalchemy.orm.state.InstanceState at 0x2294e974a20>,\n 'elevation': 3.0,\n 'latitude': 21.2716,\n 'name': 'WAIKIKI 717.2, HI US',\n 'id': 1,\n 'longitude': -157.8168,\n 'station': 'USC00519397'}"
     },
     "metadata": {},
     "execution_count": 7
    }
   ],
   "source": [
    "station_first_row = session.query(Station).first()\n",
    "station_first_row.__dict__"
   ]
  },
  {
   "cell_type": "code",
   "execution_count": 10,
   "metadata": {
    "tags": []
   },
   "outputs": [],
   "source": [
    "\n",
    "maxdate = session.query(func.max(Measurement.date)).scalar()\n",
    "a_maxdate = arrow.get(maxdate)\n",
    "startdate = a_maxdate.shift(months=-12).format('YYYY-MM-DD')\n",
    "\n",
    "query = session.query(Measurement).filter(Measurement.date.between(startdate,maxdate)).limit(5)\n"
   ]
  },
  {
   "cell_type": "code",
   "execution_count": 11,
   "metadata": {},
   "outputs": [],
   "source": [
    "dates = []\n",
    "precip = []\n",
    "for row in query:\n",
    "    measurement = row\n",
    "    dates.append(measurement.date)\n",
    "    precip.append(measurement.prcp)"
   ]
  },
  {
   "cell_type": "code",
   "execution_count": 20,
   "metadata": {},
   "outputs": [
    {
     "output_type": "execute_result",
     "data": {
      "text/plain": "         date  precipitation\n0  2016-08-23           0.00\n1  2016-08-24           0.08\n2  2016-08-25           0.08\n3  2016-08-26           0.00\n4  2016-08-27           0.00",
      "text/html": "<div>\n<style scoped>\n    .dataframe tbody tr th:only-of-type {\n        vertical-align: middle;\n    }\n\n    .dataframe tbody tr th {\n        vertical-align: top;\n    }\n\n    .dataframe thead th {\n        text-align: right;\n    }\n</style>\n<table border=\"1\" class=\"dataframe\">\n  <thead>\n    <tr style=\"text-align: right;\">\n      <th></th>\n      <th>date</th>\n      <th>precipitation</th>\n    </tr>\n  </thead>\n  <tbody>\n    <tr>\n      <th>0</th>\n      <td>2016-08-23</td>\n      <td>0.00</td>\n    </tr>\n    <tr>\n      <th>1</th>\n      <td>2016-08-24</td>\n      <td>0.08</td>\n    </tr>\n    <tr>\n      <th>2</th>\n      <td>2016-08-25</td>\n      <td>0.08</td>\n    </tr>\n    <tr>\n      <th>3</th>\n      <td>2016-08-26</td>\n      <td>0.00</td>\n    </tr>\n    <tr>\n      <th>4</th>\n      <td>2016-08-27</td>\n      <td>0.00</td>\n    </tr>\n  </tbody>\n</table>\n</div>"
     },
     "metadata": {},
     "execution_count": 20
    }
   ],
   "source": [
    "measurement = pd.DataFrame({\"date\":dates,\n",
    "                             \"precipitation\":precip})\n",
    "measurement.set_index('date')\n",
    "measurement.head()"
   ]
  },
  {
   "cell_type": "markdown",
   "metadata": {
    "tags": []
   },
   "source": [
    "dates"
   ]
  },
  {
   "cell_type": "code",
   "execution_count": null,
   "metadata": {},
   "outputs": [],
   "source": []
  }
 ],
 "metadata": {
  "language_info": {
   "codemirror_mode": {
    "name": "ipython",
    "version": 3
   },
   "file_extension": ".py",
   "mimetype": "text/x-python",
   "name": "python",
   "nbconvert_exporter": "python",
   "pygments_lexer": "ipython3",
   "version": "3.6.10-final"
  },
  "orig_nbformat": 2,
  "kernelspec": {
   "name": "python361064bitmypythonenvironmentconda689826616767485684edb83b57bf6f83",
   "display_name": "Python 3.6.10 64-bit ('MyPythonEnvironment': conda)"
  }
 },
 "nbformat": 4,
 "nbformat_minor": 2
}